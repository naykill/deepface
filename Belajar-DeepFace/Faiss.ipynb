{
 "cells": [
  {
   "cell_type": "code",
   "execution_count": 34,
   "id": "61389e7d-81d3-4c57-9e13-375489b043eb",
   "metadata": {},
   "outputs": [
    {
     "name": "stdout",
     "output_type": "stream",
     "text": [
      "Requirement already satisfied: faiss-cpu in c:\\deepface\\.venv\\lib\\site-packages (1.8.0.post1)\n",
      "Requirement already satisfied: numpy<2.0,>=1.0 in c:\\deepface\\.venv\\lib\\site-packages (from faiss-cpu) (1.26.4)\n",
      "Requirement already satisfied: packaging in c:\\deepface\\.venv\\lib\\site-packages (from faiss-cpu) (24.1)\n",
      "Requirement already satisfied: deepface in c:\\deepface\\.venv\\lib\\site-packages (0.0.93)\n",
      "Requirement already satisfied: requests>=2.27.1 in c:\\deepface\\.venv\\lib\\site-packages (from deepface) (2.32.3)\n",
      "Requirement already satisfied: numpy>=1.14.0 in c:\\deepface\\.venv\\lib\\site-packages (from deepface) (1.26.4)\n",
      "Requirement already satisfied: pandas>=0.23.4 in c:\\deepface\\.venv\\lib\\site-packages (from deepface) (2.2.2)\n",
      "Requirement already satisfied: gdown>=3.10.1 in c:\\deepface\\.venv\\lib\\site-packages (from deepface) (5.2.0)\n",
      "Requirement already satisfied: tqdm>=4.30.0 in c:\\deepface\\.venv\\lib\\site-packages (from deepface) (4.66.5)\n",
      "Requirement already satisfied: Pillow>=5.2.0 in c:\\deepface\\.venv\\lib\\site-packages (from deepface) (10.4.0)\n",
      "Requirement already satisfied: opencv-python>=4.5.5.64 in c:\\deepface\\.venv\\lib\\site-packages (from deepface) (4.10.0.84)\n",
      "Requirement already satisfied: tensorflow>=1.9.0 in c:\\deepface\\.venv\\lib\\site-packages (from deepface) (2.17.0)\n",
      "Requirement already satisfied: keras>=2.2.0 in c:\\deepface\\.venv\\lib\\site-packages (from deepface) (3.5.0)\n",
      "Requirement already satisfied: Flask>=1.1.2 in c:\\deepface\\.venv\\lib\\site-packages (from deepface) (3.0.3)\n",
      "Requirement already satisfied: flask-cors>=4.0.1 in c:\\deepface\\.venv\\lib\\site-packages (from deepface) (5.0.0)\n",
      "Requirement already satisfied: mtcnn>=0.1.0 in c:\\deepface\\.venv\\lib\\site-packages (from deepface) (0.1.1)\n",
      "Requirement already satisfied: retina-face>=0.0.1 in c:\\deepface\\.venv\\lib\\site-packages (from deepface) (0.0.17)\n",
      "Requirement already satisfied: fire>=0.4.0 in c:\\deepface\\.venv\\lib\\site-packages (from deepface) (0.6.0)\n",
      "Requirement already satisfied: gunicorn>=20.1.0 in c:\\deepface\\.venv\\lib\\site-packages (from deepface) (23.0.0)\n",
      "Requirement already satisfied: six in c:\\deepface\\.venv\\lib\\site-packages (from fire>=0.4.0->deepface) (1.16.0)\n",
      "Requirement already satisfied: termcolor in c:\\deepface\\.venv\\lib\\site-packages (from fire>=0.4.0->deepface) (2.4.0)\n",
      "Requirement already satisfied: Werkzeug>=3.0.0 in c:\\deepface\\.venv\\lib\\site-packages (from Flask>=1.1.2->deepface) (3.0.4)\n",
      "Requirement already satisfied: Jinja2>=3.1.2 in c:\\deepface\\.venv\\lib\\site-packages (from Flask>=1.1.2->deepface) (3.1.4)\n",
      "Requirement already satisfied: itsdangerous>=2.1.2 in c:\\deepface\\.venv\\lib\\site-packages (from Flask>=1.1.2->deepface) (2.2.0)\n",
      "Requirement already satisfied: click>=8.1.3 in c:\\deepface\\.venv\\lib\\site-packages (from Flask>=1.1.2->deepface) (8.1.7)\n",
      "Requirement already satisfied: blinker>=1.6.2 in c:\\deepface\\.venv\\lib\\site-packages (from Flask>=1.1.2->deepface) (1.8.2)\n",
      "Requirement already satisfied: beautifulsoup4 in c:\\deepface\\.venv\\lib\\site-packages (from gdown>=3.10.1->deepface) (4.12.3)\n",
      "Requirement already satisfied: filelock in c:\\deepface\\.venv\\lib\\site-packages (from gdown>=3.10.1->deepface) (3.16.0)\n",
      "Requirement already satisfied: packaging in c:\\deepface\\.venv\\lib\\site-packages (from gunicorn>=20.1.0->deepface) (24.1)\n",
      "Requirement already satisfied: absl-py in c:\\deepface\\.venv\\lib\\site-packages (from keras>=2.2.0->deepface) (2.1.0)\n",
      "Requirement already satisfied: rich in c:\\deepface\\.venv\\lib\\site-packages (from keras>=2.2.0->deepface) (13.8.0)\n",
      "Requirement already satisfied: namex in c:\\deepface\\.venv\\lib\\site-packages (from keras>=2.2.0->deepface) (0.0.8)\n",
      "Requirement already satisfied: h5py in c:\\deepface\\.venv\\lib\\site-packages (from keras>=2.2.0->deepface) (3.11.0)\n",
      "Requirement already satisfied: optree in c:\\deepface\\.venv\\lib\\site-packages (from keras>=2.2.0->deepface) (0.12.1)\n",
      "Requirement already satisfied: ml-dtypes in c:\\deepface\\.venv\\lib\\site-packages (from keras>=2.2.0->deepface) (0.4.0)\n",
      "Requirement already satisfied: python-dateutil>=2.8.2 in c:\\deepface\\.venv\\lib\\site-packages (from pandas>=0.23.4->deepface) (2.9.0.post0)\n",
      "Requirement already satisfied: pytz>=2020.1 in c:\\deepface\\.venv\\lib\\site-packages (from pandas>=0.23.4->deepface) (2024.1)\n",
      "Requirement already satisfied: tzdata>=2022.7 in c:\\deepface\\.venv\\lib\\site-packages (from pandas>=0.23.4->deepface) (2024.1)\n",
      "Requirement already satisfied: charset-normalizer<4,>=2 in c:\\deepface\\.venv\\lib\\site-packages (from requests>=2.27.1->deepface) (3.3.2)\n",
      "Requirement already satisfied: idna<4,>=2.5 in c:\\deepface\\.venv\\lib\\site-packages (from requests>=2.27.1->deepface) (3.8)\n",
      "Requirement already satisfied: urllib3<3,>=1.21.1 in c:\\deepface\\.venv\\lib\\site-packages (from requests>=2.27.1->deepface) (2.2.2)\n",
      "Requirement already satisfied: certifi>=2017.4.17 in c:\\deepface\\.venv\\lib\\site-packages (from requests>=2.27.1->deepface) (2024.8.30)\n",
      "Requirement already satisfied: tensorflow-intel==2.17.0 in c:\\deepface\\.venv\\lib\\site-packages (from tensorflow>=1.9.0->deepface) (2.17.0)\n",
      "Requirement already satisfied: astunparse>=1.6.0 in c:\\deepface\\.venv\\lib\\site-packages (from tensorflow-intel==2.17.0->tensorflow>=1.9.0->deepface) (1.6.3)\n",
      "Requirement already satisfied: flatbuffers>=24.3.25 in c:\\deepface\\.venv\\lib\\site-packages (from tensorflow-intel==2.17.0->tensorflow>=1.9.0->deepface) (24.3.25)\n",
      "Requirement already satisfied: gast!=0.5.0,!=0.5.1,!=0.5.2,>=0.2.1 in c:\\deepface\\.venv\\lib\\site-packages (from tensorflow-intel==2.17.0->tensorflow>=1.9.0->deepface) (0.6.0)\n",
      "Requirement already satisfied: google-pasta>=0.1.1 in c:\\deepface\\.venv\\lib\\site-packages (from tensorflow-intel==2.17.0->tensorflow>=1.9.0->deepface) (0.2.0)\n",
      "Requirement already satisfied: libclang>=13.0.0 in c:\\deepface\\.venv\\lib\\site-packages (from tensorflow-intel==2.17.0->tensorflow>=1.9.0->deepface) (18.1.1)\n",
      "Requirement already satisfied: opt-einsum>=2.3.2 in c:\\deepface\\.venv\\lib\\site-packages (from tensorflow-intel==2.17.0->tensorflow>=1.9.0->deepface) (3.3.0)\n",
      "Requirement already satisfied: protobuf!=4.21.0,!=4.21.1,!=4.21.2,!=4.21.3,!=4.21.4,!=4.21.5,<5.0.0dev,>=3.20.3 in c:\\deepface\\.venv\\lib\\site-packages (from tensorflow-intel==2.17.0->tensorflow>=1.9.0->deepface) (4.25.4)\n",
      "Requirement already satisfied: setuptools in c:\\deepface\\.venv\\lib\\site-packages (from tensorflow-intel==2.17.0->tensorflow>=1.9.0->deepface) (74.1.2)\n",
      "Requirement already satisfied: typing-extensions>=3.6.6 in c:\\deepface\\.venv\\lib\\site-packages (from tensorflow-intel==2.17.0->tensorflow>=1.9.0->deepface) (4.12.2)\n",
      "Requirement already satisfied: wrapt>=1.11.0 in c:\\deepface\\.venv\\lib\\site-packages (from tensorflow-intel==2.17.0->tensorflow>=1.9.0->deepface) (1.16.0)\n",
      "Requirement already satisfied: grpcio<2.0,>=1.24.3 in c:\\deepface\\.venv\\lib\\site-packages (from tensorflow-intel==2.17.0->tensorflow>=1.9.0->deepface) (1.66.1)\n",
      "Requirement already satisfied: tensorboard<2.18,>=2.17 in c:\\deepface\\.venv\\lib\\site-packages (from tensorflow-intel==2.17.0->tensorflow>=1.9.0->deepface) (2.17.1)\n",
      "Requirement already satisfied: tensorflow-io-gcs-filesystem>=0.23.1 in c:\\deepface\\.venv\\lib\\site-packages (from tensorflow-intel==2.17.0->tensorflow>=1.9.0->deepface) (0.31.0)\n",
      "Requirement already satisfied: colorama in c:\\deepface\\.venv\\lib\\site-packages (from tqdm>=4.30.0->deepface) (0.4.6)\n",
      "Requirement already satisfied: MarkupSafe>=2.0 in c:\\deepface\\.venv\\lib\\site-packages (from Jinja2>=3.1.2->Flask>=1.1.2->deepface) (2.1.5)\n",
      "Requirement already satisfied: soupsieve>1.2 in c:\\deepface\\.venv\\lib\\site-packages (from beautifulsoup4->gdown>=3.10.1->deepface) (2.6)\n",
      "Requirement already satisfied: PySocks!=1.5.7,>=1.5.6 in c:\\deepface\\.venv\\lib\\site-packages (from requests[socks]->gdown>=3.10.1->deepface) (1.7.1)\n",
      "Requirement already satisfied: markdown-it-py>=2.2.0 in c:\\deepface\\.venv\\lib\\site-packages (from rich->keras>=2.2.0->deepface) (3.0.0)\n",
      "Requirement already satisfied: pygments<3.0.0,>=2.13.0 in c:\\deepface\\.venv\\lib\\site-packages (from rich->keras>=2.2.0->deepface) (2.18.0)\n",
      "Requirement already satisfied: wheel<1.0,>=0.23.0 in c:\\deepface\\.venv\\lib\\site-packages (from astunparse>=1.6.0->tensorflow-intel==2.17.0->tensorflow>=1.9.0->deepface) (0.44.0)\n",
      "Requirement already satisfied: mdurl~=0.1 in c:\\deepface\\.venv\\lib\\site-packages (from markdown-it-py>=2.2.0->rich->keras>=2.2.0->deepface) (0.1.2)\n",
      "Requirement already satisfied: markdown>=2.6.8 in c:\\deepface\\.venv\\lib\\site-packages (from tensorboard<2.18,>=2.17->tensorflow-intel==2.17.0->tensorflow>=1.9.0->deepface) (3.7)\n",
      "Requirement already satisfied: tensorboard-data-server<0.8.0,>=0.7.0 in c:\\deepface\\.venv\\lib\\site-packages (from tensorboard<2.18,>=2.17->tensorflow-intel==2.17.0->tensorflow>=1.9.0->deepface) (0.7.2)\n",
      "Requirement already satisfied: ultralytics in c:\\deepface\\.venv\\lib\\site-packages (8.2.91)\n",
      "Requirement already satisfied: numpy<2.0.0,>=1.23.0 in c:\\deepface\\.venv\\lib\\site-packages (from ultralytics) (1.26.4)\n",
      "Requirement already satisfied: matplotlib>=3.3.0 in c:\\deepface\\.venv\\lib\\site-packages (from ultralytics) (3.9.2)\n",
      "Requirement already satisfied: opencv-python>=4.6.0 in c:\\deepface\\.venv\\lib\\site-packages (from ultralytics) (4.10.0.84)\n",
      "Requirement already satisfied: pillow>=7.1.2 in c:\\deepface\\.venv\\lib\\site-packages (from ultralytics) (10.4.0)\n",
      "Requirement already satisfied: pyyaml>=5.3.1 in c:\\deepface\\.venv\\lib\\site-packages (from ultralytics) (6.0.2)\n",
      "Requirement already satisfied: requests>=2.23.0 in c:\\deepface\\.venv\\lib\\site-packages (from ultralytics) (2.32.3)\n",
      "Requirement already satisfied: scipy>=1.4.1 in c:\\deepface\\.venv\\lib\\site-packages (from ultralytics) (1.14.1)\n",
      "Requirement already satisfied: torch>=1.8.0 in c:\\deepface\\.venv\\lib\\site-packages (from ultralytics) (2.4.1)\n",
      "Requirement already satisfied: torchvision>=0.9.0 in c:\\deepface\\.venv\\lib\\site-packages (from ultralytics) (0.19.1)\n",
      "Requirement already satisfied: tqdm>=4.64.0 in c:\\deepface\\.venv\\lib\\site-packages (from ultralytics) (4.66.5)\n",
      "Requirement already satisfied: psutil in c:\\deepface\\.venv\\lib\\site-packages (from ultralytics) (6.0.0)\n",
      "Requirement already satisfied: py-cpuinfo in c:\\deepface\\.venv\\lib\\site-packages (from ultralytics) (9.0.0)\n",
      "Requirement already satisfied: pandas>=1.1.4 in c:\\deepface\\.venv\\lib\\site-packages (from ultralytics) (2.2.2)\n",
      "Requirement already satisfied: seaborn>=0.11.0 in c:\\deepface\\.venv\\lib\\site-packages (from ultralytics) (0.13.2)\n",
      "Requirement already satisfied: ultralytics-thop>=2.0.0 in c:\\deepface\\.venv\\lib\\site-packages (from ultralytics) (2.0.6)\n",
      "Requirement already satisfied: contourpy>=1.0.1 in c:\\deepface\\.venv\\lib\\site-packages (from matplotlib>=3.3.0->ultralytics) (1.3.0)\n",
      "Requirement already satisfied: cycler>=0.10 in c:\\deepface\\.venv\\lib\\site-packages (from matplotlib>=3.3.0->ultralytics) (0.12.1)\n",
      "Requirement already satisfied: fonttools>=4.22.0 in c:\\deepface\\.venv\\lib\\site-packages (from matplotlib>=3.3.0->ultralytics) (4.53.1)\n",
      "Requirement already satisfied: kiwisolver>=1.3.1 in c:\\deepface\\.venv\\lib\\site-packages (from matplotlib>=3.3.0->ultralytics) (1.4.7)\n",
      "Requirement already satisfied: packaging>=20.0 in c:\\deepface\\.venv\\lib\\site-packages (from matplotlib>=3.3.0->ultralytics) (24.1)\n",
      "Requirement already satisfied: pyparsing>=2.3.1 in c:\\deepface\\.venv\\lib\\site-packages (from matplotlib>=3.3.0->ultralytics) (3.1.4)\n",
      "Requirement already satisfied: python-dateutil>=2.7 in c:\\deepface\\.venv\\lib\\site-packages (from matplotlib>=3.3.0->ultralytics) (2.9.0.post0)\n",
      "Requirement already satisfied: pytz>=2020.1 in c:\\deepface\\.venv\\lib\\site-packages (from pandas>=1.1.4->ultralytics) (2024.1)\n",
      "Requirement already satisfied: tzdata>=2022.7 in c:\\deepface\\.venv\\lib\\site-packages (from pandas>=1.1.4->ultralytics) (2024.1)\n",
      "Requirement already satisfied: charset-normalizer<4,>=2 in c:\\deepface\\.venv\\lib\\site-packages (from requests>=2.23.0->ultralytics) (3.3.2)\n",
      "Requirement already satisfied: idna<4,>=2.5 in c:\\deepface\\.venv\\lib\\site-packages (from requests>=2.23.0->ultralytics) (3.8)\n",
      "Requirement already satisfied: urllib3<3,>=1.21.1 in c:\\deepface\\.venv\\lib\\site-packages (from requests>=2.23.0->ultralytics) (2.2.2)\n",
      "Requirement already satisfied: certifi>=2017.4.17 in c:\\deepface\\.venv\\lib\\site-packages (from requests>=2.23.0->ultralytics) (2024.8.30)\n",
      "Requirement already satisfied: filelock in c:\\deepface\\.venv\\lib\\site-packages (from torch>=1.8.0->ultralytics) (3.16.0)\n",
      "Requirement already satisfied: typing-extensions>=4.8.0 in c:\\deepface\\.venv\\lib\\site-packages (from torch>=1.8.0->ultralytics) (4.12.2)\n",
      "Requirement already satisfied: sympy in c:\\deepface\\.venv\\lib\\site-packages (from torch>=1.8.0->ultralytics) (1.13.2)\n",
      "Requirement already satisfied: networkx in c:\\deepface\\.venv\\lib\\site-packages (from torch>=1.8.0->ultralytics) (3.3)\n",
      "Requirement already satisfied: jinja2 in c:\\deepface\\.venv\\lib\\site-packages (from torch>=1.8.0->ultralytics) (3.1.4)\n",
      "Requirement already satisfied: fsspec in c:\\deepface\\.venv\\lib\\site-packages (from torch>=1.8.0->ultralytics) (2024.9.0)\n",
      "Requirement already satisfied: colorama in c:\\deepface\\.venv\\lib\\site-packages (from tqdm>=4.64.0->ultralytics) (0.4.6)\n",
      "Requirement already satisfied: six>=1.5 in c:\\deepface\\.venv\\lib\\site-packages (from python-dateutil>=2.7->matplotlib>=3.3.0->ultralytics) (1.16.0)\n",
      "Requirement already satisfied: MarkupSafe>=2.0 in c:\\deepface\\.venv\\lib\\site-packages (from jinja2->torch>=1.8.0->ultralytics) (2.1.5)\n",
      "Requirement already satisfied: mpmath<1.4,>=1.1.0 in c:\\deepface\\.venv\\lib\\site-packages (from sympy->torch>=1.8.0->ultralytics) (1.3.0)\n"
     ]
    }
   ],
   "source": [
    "!pip install faiss-cpu\n",
    "!pip install deepface\n",
    "!pip install ultralytics"
   ]
  },
  {
   "cell_type": "code",
   "execution_count": 35,
   "id": "234767ab-58c4-47ee-bd86-176202ced4ac",
   "metadata": {},
   "outputs": [
    {
     "ename": "ModuleNotFoundError",
     "evalue": "No module named 'faiss'",
     "output_type": "error",
     "traceback": [
      "\u001b[1;31m---------------------------------------------------------------------------\u001b[0m",
      "\u001b[1;31mModuleNotFoundError\u001b[0m                       Traceback (most recent call last)",
      "Cell \u001b[1;32mIn[35], line 6\u001b[0m\n\u001b[0;32m      4\u001b[0m \u001b[38;5;28;01mfrom\u001b[39;00m \u001b[38;5;21;01mdeepface\u001b[39;00m \u001b[38;5;28;01mimport\u001b[39;00m DeepFace\n\u001b[0;32m      5\u001b[0m \u001b[38;5;28;01mimport\u001b[39;00m \u001b[38;5;21;01mnumpy\u001b[39;00m \u001b[38;5;28;01mas\u001b[39;00m \u001b[38;5;21;01mnp\u001b[39;00m\n\u001b[1;32m----> 6\u001b[0m \u001b[38;5;28;01mimport\u001b[39;00m \u001b[38;5;21;01mfaiss\u001b[39;00m\n",
      "\u001b[1;31mModuleNotFoundError\u001b[0m: No module named 'faiss'"
     ]
    }
   ],
   "source": [
    "import time\n",
    "import os\n",
    "import random\n",
    "from deepface import DeepFace\n",
    "import numpy as np\n",
    "import faiss"
   ]
  },
  {
   "cell_type": "code",
   "execution_count": null,
   "id": "31aed804-e32d-4a71-af06-11f32d472561",
   "metadata": {},
   "outputs": [],
   "source": [
    "representations = []\n",
    "for r, d, files in os.walk(\"../Belajar-Deepface/\"):\n",
    "    for file in files:\n",
    "        if \".jpg\" in file:\n",
    "            exact_file = f\"{r}{file}\"\n",
    "            #print(exact_file)\n",
    "            objs = DeepFace.represent(\n",
    "                img_path=exact_file,\n",
    "                model_name=\"Facenet\",\n",
    "                detector_backend=\"yolov8\"\n",
    "            )\n",
    "            for obj in objs:\n",
    "                embedding = obj[\"embedding\"]\n",
    "                representations.append([file, embedding])"
   ]
  },
  {
   "cell_type": "code",
   "execution_count": null,
   "id": "2141b583-9e24-4285-a655-601a83b2e772",
   "metadata": {},
   "outputs": [],
   "source": [
    "len(representations)"
   ]
  },
  {
   "cell_type": "code",
   "execution_count": null,
   "id": "4cace95d-a068-4818-8582-16aec22e91f2",
   "metadata": {},
   "outputs": [],
   "source": [
    "len(representations[0][1])"
   ]
  },
  {
   "cell_type": "code",
   "execution_count": null,
   "id": "b037f065-3514-43f5-800a-e2e810e13c59",
   "metadata": {},
   "outputs": [],
   "source": [
    "for i in range(len(representations),1000000):\n",
    "    key = f\"synthetic_{i}.jpg\"\n",
    "    vector = [random.gauss(-0.5, 0.5) for z in range(128)]\n",
    "    representations.append([key, vector])"
   ]
  },
  {
   "cell_type": "code",
   "execution_count": null,
   "id": "f7e964e7-6722-4a37-a3cc-f8722a503bc5",
   "metadata": {},
   "outputs": [],
   "source": [
    "len(representations)"
   ]
  },
  {
   "cell_type": "code",
   "execution_count": null,
   "id": "908f1555-f276-4788-b33b-cbdd9971194f",
   "metadata": {},
   "outputs": [],
   "source": [
    "embeddings = []\n",
    "for key, value in representations:\n",
    "    embeddings.append(value)"
   ]
  },
  {
   "cell_type": "code",
   "execution_count": null,
   "id": "ca56ceef-8aee-4811-85e6-9c354a7634a3",
   "metadata": {},
   "outputs": [],
   "source": [
    "index = faiss.IndexFlatL2(128)  "
   ]
  },
  {
   "cell_type": "code",
   "execution_count": null,
   "id": "a0b9f39b-1bfd-4621-9269-595f5c2c692b",
   "metadata": {},
   "outputs": [],
   "source": [
    "index.add(np.array(embeddings, dtype = \"f\"))"
   ]
  },
  {
   "cell_type": "code",
   "execution_count": null,
   "id": "32e0134c-52f8-4fd3-919d-11f477ecb084",
   "metadata": {},
   "outputs": [],
   "source": [
    "target_path = \"Target.jpg\""
   ]
  },
  {
   "cell_type": "code",
   "execution_count": null,
   "id": "7023dd80-5d24-4a03-957c-848a3d6d7f72",
   "metadata": {},
   "outputs": [],
   "source": [
    "target_embedding = DeepFace.represent(\n",
    "    img_path=target_path,\n",
    "    model_name=\"Facenet\",\n",
    "    detector_backend=\"yolov8\"\n",
    ")[0][\"embedding\"]"
   ]
  },
  {
   "cell_type": "code",
   "execution_count": null,
   "id": "c1f6c083-45e0-4b36-9ca7-2dc2d3bb4785",
   "metadata": {},
   "outputs": [],
   "source": [
    "target_embedding = np.array(target_embedding, dtype = \"f\")"
   ]
  },
  {
   "cell_type": "code",
   "execution_count": null,
   "id": "605ba7de-c372-4c19-b6e2-98319f808739",
   "metadata": {},
   "outputs": [],
   "source": [
    "target_embedding = np.expand_dims(target_embedding, axis = 0)"
   ]
  },
  {
   "cell_type": "code",
   "execution_count": null,
   "id": "93164ee1-d0c4-4dff-94dd-a87fc7849030",
   "metadata": {},
   "outputs": [],
   "source": [
    "target_embedding.shape"
   ]
  },
  {
   "cell_type": "code",
   "execution_count": null,
   "id": "91a98eab-e8bf-4af5-a49e-2cc78c497db2",
   "metadata": {},
   "outputs": [],
   "source": [
    "k = 3\n",
    "tic = time.time()\n",
    "distances, neighbours = index.search(target_embedding, k)\n",
    "toc = time.time()"
   ]
  },
  {
   "cell_type": "code",
   "execution_count": null,
   "id": "49ee8e58-d5b9-4d4e-96bf-52b6a1a1e988",
   "metadata": {},
   "outputs": [],
   "source": [
    "print(toc - tic,\"seconds\")"
   ]
  },
  {
   "cell_type": "code",
   "execution_count": null,
   "id": "e4d09fa8-07d6-4721-8aae-1b6f73c0b0c2",
   "metadata": {},
   "outputs": [],
   "source": [
    "neighbours"
   ]
  },
  {
   "cell_type": "code",
   "execution_count": null,
   "id": "fb39d025-a03e-4843-8fb5-94547ec1fa2b",
   "metadata": {},
   "outputs": [],
   "source": [
    "representations[5]"
   ]
  },
  {
   "cell_type": "raw",
   "id": "008192b7-f95f-4953-8031-1e5b0865dbe8",
   "metadata": {},
   "source": []
  },
  {
   "cell_type": "code",
   "execution_count": null,
   "id": "1b818578-8bf0-4983-a5cf-82d62de7facc",
   "metadata": {},
   "outputs": [],
   "source": [
    "representations[2][0]"
   ]
  },
  {
   "cell_type": "code",
   "execution_count": null,
   "id": "ad8696a9-fac0-433c-8971-fdd414981116",
   "metadata": {},
   "outputs": [],
   "source": [
    "representations[69][0]"
   ]
  }
 ],
 "metadata": {
  "kernelspec": {
   "display_name": "Python 3 (ipykernel)",
   "language": "python",
   "name": "python3"
  },
  "language_info": {
   "codemirror_mode": {
    "name": "ipython",
    "version": 3
   },
   "file_extension": ".py",
   "mimetype": "text/x-python",
   "name": "python",
   "nbconvert_exporter": "python",
   "pygments_lexer": "ipython3",
   "version": "3.10.7"
  }
 },
 "nbformat": 4,
 "nbformat_minor": 5
}
